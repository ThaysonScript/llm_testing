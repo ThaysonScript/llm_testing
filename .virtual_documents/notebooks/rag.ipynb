


from dotenv import load_dotenv
import os

def carregar_chaves_api():
    load_dotenv()

    groq_api_key = os.getenv('GROQ_API_KEY')
    lang_smith_tracing = os.getenv('LANGSMITH_TRACING')
    lang_smith_api_key = os.getenv('LANGSMITH_TRACING')


def imprimir_chaves_api():
    print(f"GROQ_API_KEY: {groq_api_key}")
    print(f'LANGSMITH_TRACING: {lang_smith_tracing}')
    print(f'LANGSMITH_API_KEY: {lang_smith_api_key}')


carregar_chaves_api()





from langchain_groq import ChatGroq

class Modelos:
    def __init__(self):
        self.models = {
            'google_gemma': 'gemma2-9b-it',
            'meta_llama': 'llama-3.3-70b-versatile',
            'deep_seek': 'deepseek-r1-distill-llama-70b-specdec'
        }

        self.google_llm = ChatGroq(model=self.models['google_gemma'])
        self.meta_llm = ChatGroq(model=self.models['meta_llama'])
        self.deep_seek_llm = ChatGroq(model=self.models['deep_seek'])

    def imprimir_llms_carregadas(self):
        print(f'GOOGLE_LLM: {self.google_llm}\n')
        print(f'META_LLM: {self.meta_llm}\n')
        print(f'DEEP_SEEK_LLM: {self.deep_seek_llm}\n')

new_obj = Modelos()
new_obj.imprimir_llms_carregadas()





from langchain_community.document_loaders import PyPDFLoader
import os

# Caminho para o diretório onde os PDFs estão localizados
directory_path = "../data/minuta/"

# Lista para armazenar os documentos carregados
docs_list = []
i = 1

# Itera sobre os arquivos no diretório e carrega os PDFs
for filename in os.listdir(directory_path):
    if filename.endswith(".pdf"):  # Verifica se o arquivo é um PDF
        pdf_file_path = os.path.join(directory_path, filename)

        loader = PyPDFLoader(pdf_file_path)

        print(f'loader: {loader}\n\n')
                
        docs = await loader.aload()

        print(f'docs_loader: {docs[0].page_content[:100]}\n\n')
        
        docs_list.append(docs)

        print(i)




