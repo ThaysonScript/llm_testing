{
 "cells": [
  {
   "cell_type": "markdown",
   "id": "6749f69c-fc25-4c31-8c93-dc2dcc5e4982",
   "metadata": {},
   "source": [
    "# Carregando chaves de api"
   ]
  },
  {
   "cell_type": "code",
   "execution_count": 1,
   "id": "9a763fdd-6568-4b74-adac-f14b78d37c1f",
   "metadata": {
    "editable": true,
    "slideshow": {
     "slide_type": ""
    },
    "tags": []
   },
   "outputs": [],
   "source": [
    "from dotenv import load_dotenv\n",
    "import os\n",
    "\n",
    "def carregar_chaves_api():\n",
    "    load_dotenv()\n",
    "\n",
    "    groq_api_key = os.getenv('GROQ_API_KEY')\n",
    "    lang_smith_tracing = os.getenv('LANGSMITH_TRACING')\n",
    "    lang_smith_api_key = os.getenv('LANGSMITH_TRACING')\n",
    "\n",
    "\n",
    "def imprimir_chaves_api():\n",
    "    print(f\"GROQ_API_KEY: {groq_api_key}\")\n",
    "    print(f'LANGSMITH_TRACING: {lang_smith_tracing}')\n",
    "    print(f'LANGSMITH_API_KEY: {lang_smith_api_key}')\n",
    "\n",
    "\n",
    "carregar_chaves_api()"
   ]
  },
  {
   "cell_type": "markdown",
   "id": "795075a4-69e1-40a3-a37f-159f3de11e92",
   "metadata": {},
   "source": [
    "# Definindo e chamando modelos que vão ser usados"
   ]
  },
  {
   "cell_type": "code",
   "execution_count": 3,
   "id": "d17440ca-791c-450e-a933-0b362af513e2",
   "metadata": {},
   "outputs": [
    {
     "name": "stdout",
     "output_type": "stream",
     "text": [
      "GOOGLE_LLM: client=<groq.resources.chat.completions.Completions object at 0x7eff23497c50> async_client=<groq.resources.chat.completions.AsyncCompletions object at 0x7eff234b4da0> model_name='gemma2-9b-it' model_kwargs={} groq_api_key=SecretStr('**********')\n",
      "\n",
      "META_LLM: client=<groq.resources.chat.completions.Completions object at 0x7eff234b5f40> async_client=<groq.resources.chat.completions.AsyncCompletions object at 0x7eff234b70e0> model_name='llama-3.3-70b-versatile' model_kwargs={} groq_api_key=SecretStr('**********')\n",
      "\n",
      "DEEP_SEEK_LLM: client=<groq.resources.chat.completions.Completions object at 0x7eff234dc2f0> async_client=<groq.resources.chat.completions.AsyncCompletions object at 0x7eff234dd4c0> model_name='deepseek-r1-distill-llama-70b-specdec' model_kwargs={} groq_api_key=SecretStr('**********')\n",
      "\n"
     ]
    }
   ],
   "source": [
    "from langchain_groq import ChatGroq\n",
    "\n",
    "class Modelos:\n",
    "    def __init__(self):\n",
    "        self.models = {\n",
    "            'google_gemma': 'gemma2-9b-it',\n",
    "            'meta_llama': 'llama-3.3-70b-versatile',\n",
    "            'deep_seek': 'deepseek-r1-distill-llama-70b-specdec'\n",
    "        }\n",
    "\n",
    "        self.google_llm = ChatGroq(model=self.models['google_gemma'])\n",
    "        self.meta_llm = ChatGroq(model=self.models['meta_llama'])\n",
    "        self.deep_seek_llm = ChatGroq(model=self.models['deep_seek'])\n",
    "\n",
    "    def imprimir_llms_carregadas(self):\n",
    "        print(f'GOOGLE_LLM: {self.google_llm}\\n')\n",
    "        print(f'META_LLM: {self.meta_llm}\\n')\n",
    "        print(f'DEEP_SEEK_LLM: {self.deep_seek_llm}\\n')\n",
    "\n",
    "new_obj = Modelos()\n",
    "new_obj.imprimir_llms_carregadas()"
   ]
  },
  {
   "cell_type": "markdown",
   "id": "62076d0f-4bab-4000-97a4-95746137d22d",
   "metadata": {},
   "source": [
    "# Carregar PDFS de prospectos"
   ]
  },
  {
   "cell_type": "code",
   "execution_count": 21,
   "id": "e732d8be-08f9-40fc-94bc-5cd122248187",
   "metadata": {},
   "outputs": [
    {
     "name": "stdout",
     "output_type": "stream",
     "text": [
      "loader: <langchain_community.document_loaders.pdf.PyPDFLoader object at 0x7eff21ce7710>\n",
      "\n",
      "\n",
      "docs_loader: ESTE DOCUMENTO É UMA MINUTA INICIAL SUJEITA A ALTERAÇÕES E COMP LEMENTAÇÕES, TENDO SIDO ARQUIVADO NA\n",
      "\n",
      "\n",
      "{'producer': 'Acrobat Distiller 10.0.0 (Windows)', 'creator': 'PScript5.dll Version 5.2.2', 'creationdate': '2020-10-21T17:41:47-03:00', 'author': '', 'moddate': '2020-10-21T17:44:00-03:00', 'title': '', 'source': '../data/minuta/uni_co_20201021_Minuta%20do%20Prospecto%20Preliminar.pdf', 'total_pages': 667, 'page': 0, 'page_label': '1'}\n",
      "1\n",
      "loader: <langchain_community.document_loaders.pdf.PyPDFLoader object at 0x7eff215aff80>\n",
      "\n",
      "\n"
     ]
    },
    {
     "ename": "CancelledError",
     "evalue": "",
     "output_type": "error",
     "traceback": [
      "\u001b[0;31m---------------------------------------------------------------------------\u001b[0m",
      "\u001b[0;31mCancelledError\u001b[0m                            Traceback (most recent call last)",
      "Cell \u001b[0;32mIn[21], line 18\u001b[0m\n\u001b[1;32m     14\u001b[0m loader \u001b[38;5;241m=\u001b[39m PyPDFLoader(caminho_pdf)\n\u001b[1;32m     16\u001b[0m \u001b[38;5;28mprint\u001b[39m(\u001b[38;5;124mf\u001b[39m\u001b[38;5;124m'\u001b[39m\u001b[38;5;124mloader: \u001b[39m\u001b[38;5;132;01m{\u001b[39;00mloader\u001b[38;5;132;01m}\u001b[39;00m\u001b[38;5;130;01m\\n\u001b[39;00m\u001b[38;5;130;01m\\n\u001b[39;00m\u001b[38;5;124m'\u001b[39m)\n\u001b[0;32m---> 18\u001b[0m docs \u001b[38;5;241m=\u001b[39m \u001b[38;5;28;01mawait\u001b[39;00m loader\u001b[38;5;241m.\u001b[39maload()\n\u001b[1;32m     20\u001b[0m \u001b[38;5;28mprint\u001b[39m(\u001b[38;5;124mf\u001b[39m\u001b[38;5;124m'\u001b[39m\u001b[38;5;124mdocs_loader: \u001b[39m\u001b[38;5;132;01m{\u001b[39;00mdocs[\u001b[38;5;241m0\u001b[39m]\u001b[38;5;241m.\u001b[39mpage_content[:\u001b[38;5;241m100\u001b[39m]\u001b[38;5;132;01m}\u001b[39;00m\u001b[38;5;130;01m\\n\u001b[39;00m\u001b[38;5;130;01m\\n\u001b[39;00m\u001b[38;5;124m'\u001b[39m)\n\u001b[1;32m     21\u001b[0m \u001b[38;5;28mprint\u001b[39m(docs[\u001b[38;5;241m0\u001b[39m]\u001b[38;5;241m.\u001b[39mmetadata)\n",
      "File \u001b[0;32m~/Repositorios/llm_testing/env/lib/python3.12/site-packages/langchain_core/document_loaders/base.py:35\u001b[0m, in \u001b[0;36mBaseLoader.aload\u001b[0;34m(self)\u001b[0m\n\u001b[1;32m     33\u001b[0m \u001b[38;5;28;01masync\u001b[39;00m \u001b[38;5;28;01mdef\u001b[39;00m\u001b[38;5;250m \u001b[39m\u001b[38;5;21maload\u001b[39m(\u001b[38;5;28mself\u001b[39m) \u001b[38;5;241m-\u001b[39m\u001b[38;5;241m>\u001b[39m \u001b[38;5;28mlist\u001b[39m[Document]:\n\u001b[1;32m     34\u001b[0m \u001b[38;5;250m    \u001b[39m\u001b[38;5;124;03m\"\"\"Load data into Document objects.\"\"\"\u001b[39;00m\n\u001b[0;32m---> 35\u001b[0m     \u001b[38;5;28;01mreturn\u001b[39;00m [document \u001b[38;5;28;01masync\u001b[39;00m \u001b[38;5;28;01mfor\u001b[39;00m document \u001b[38;5;129;01min\u001b[39;00m \u001b[38;5;28mself\u001b[39m\u001b[38;5;241m.\u001b[39malazy_load()]\n",
      "File \u001b[0;32m~/Repositorios/llm_testing/env/lib/python3.12/site-packages/langchain_core/document_loaders/base.py:82\u001b[0m, in \u001b[0;36mBaseLoader.alazy_load\u001b[0;34m(self)\u001b[0m\n\u001b[1;32m     80\u001b[0m done \u001b[38;5;241m=\u001b[39m \u001b[38;5;28mobject\u001b[39m()\n\u001b[1;32m     81\u001b[0m \u001b[38;5;28;01mwhile\u001b[39;00m \u001b[38;5;28;01mTrue\u001b[39;00m:\n\u001b[0;32m---> 82\u001b[0m     doc \u001b[38;5;241m=\u001b[39m \u001b[38;5;28;01mawait\u001b[39;00m run_in_executor(\u001b[38;5;28;01mNone\u001b[39;00m, \u001b[38;5;28mnext\u001b[39m, iterator, done)  \u001b[38;5;66;03m# type: ignore[call-arg, arg-type]\u001b[39;00m\n\u001b[1;32m     83\u001b[0m     \u001b[38;5;28;01mif\u001b[39;00m doc \u001b[38;5;129;01mis\u001b[39;00m done:\n\u001b[1;32m     84\u001b[0m         \u001b[38;5;28;01mbreak\u001b[39;00m\n",
      "File \u001b[0;32m~/Repositorios/llm_testing/env/lib/python3.12/site-packages/langchain_core/runnables/config.py:588\u001b[0m, in \u001b[0;36mrun_in_executor\u001b[0;34m(executor_or_config, func, *args, **kwargs)\u001b[0m\n\u001b[1;32m    584\u001b[0m         \u001b[38;5;28;01mraise\u001b[39;00m \u001b[38;5;167;01mRuntimeError\u001b[39;00m \u001b[38;5;28;01mfrom\u001b[39;00m\u001b[38;5;250m \u001b[39m\u001b[38;5;21;01mexc\u001b[39;00m\n\u001b[1;32m    586\u001b[0m \u001b[38;5;28;01mif\u001b[39;00m executor_or_config \u001b[38;5;129;01mis\u001b[39;00m \u001b[38;5;28;01mNone\u001b[39;00m \u001b[38;5;129;01mor\u001b[39;00m \u001b[38;5;28misinstance\u001b[39m(executor_or_config, \u001b[38;5;28mdict\u001b[39m):\n\u001b[1;32m    587\u001b[0m     \u001b[38;5;66;03m# Use default executor with context copied from current context\u001b[39;00m\n\u001b[0;32m--> 588\u001b[0m     \u001b[38;5;28;01mreturn\u001b[39;00m \u001b[38;5;28;01mawait\u001b[39;00m asyncio\u001b[38;5;241m.\u001b[39mget_running_loop()\u001b[38;5;241m.\u001b[39mrun_in_executor(\n\u001b[1;32m    589\u001b[0m         \u001b[38;5;28;01mNone\u001b[39;00m,\n\u001b[1;32m    590\u001b[0m         cast(Callable[\u001b[38;5;241m.\u001b[39m\u001b[38;5;241m.\u001b[39m\u001b[38;5;241m.\u001b[39m, T], partial(copy_context()\u001b[38;5;241m.\u001b[39mrun, wrapper)),\n\u001b[1;32m    591\u001b[0m     )\n\u001b[1;32m    593\u001b[0m \u001b[38;5;28;01mreturn\u001b[39;00m \u001b[38;5;28;01mawait\u001b[39;00m asyncio\u001b[38;5;241m.\u001b[39mget_running_loop()\u001b[38;5;241m.\u001b[39mrun_in_executor(executor_or_config, wrapper)\n",
      "\u001b[0;31mCancelledError\u001b[0m: "
     ]
    }
   ],
   "source": [
    "from langchain_community.document_loaders import PyPDFLoader\n",
    "import os\n",
    "\n",
    "# Lista para armazenar os documentos carregados\n",
    "diretorio_base='../data/minuta/'\n",
    "docs_list = []\n",
    "i = 1\n",
    "\n",
    "# Itera sobre os arquivos no diretório e carrega os PDFs\n",
    "for nome_arquivo in os.listdir(diretorio_base):\n",
    "    if nome_arquivo.endswith(\".pdf\"):  # Verifica se o arquivo é um PDF\n",
    "        caminho_pdf = os.path.join(diretorio_base, nome_arquivo)\n",
    "\n",
    "        loader = PyPDFLoader(caminho_pdf)\n",
    "\n",
    "        print(f'loader: {loader}\\n\\n')\n",
    "                \n",
    "        docs = await loader.aload()\n",
    "\n",
    "        print(f'docs_loader: {docs[0].page_content[:100]}\\n\\n')\n",
    "        print(docs[0].metadata)\n",
    "        \n",
    "        docs_list.append(docs)\n",
    "\n",
    "        print(i)\n",
    "        i += 1\n"
   ]
  },
  {
   "cell_type": "code",
   "execution_count": null,
   "id": "e44a1bd4-2f1c-4857-bda2-2cebbc7923ab",
   "metadata": {},
   "outputs": [],
   "source": []
  }
 ],
 "metadata": {
  "kernelspec": {
   "display_name": "virtual_env_personalizado",
   "language": "python",
   "name": "env"
  },
  "language_info": {
   "codemirror_mode": {
    "name": "ipython",
    "version": 3
   },
   "file_extension": ".py",
   "mimetype": "text/x-python",
   "name": "python",
   "nbconvert_exporter": "python",
   "pygments_lexer": "ipython3",
   "version": "3.12.7"
  }
 },
 "nbformat": 4,
 "nbformat_minor": 5
}
