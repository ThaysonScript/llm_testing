{
 "cells": [
  {
   "cell_type": "markdown",
   "id": "6749f69c-fc25-4c31-8c93-dc2dcc5e4982",
   "metadata": {},
   "source": [
    "# Carregando chaves de api"
   ]
  },
  {
   "cell_type": "code",
   "execution_count": 175,
   "id": "9a763fdd-6568-4b74-adac-f14b78d37c1f",
   "metadata": {
    "editable": true,
    "slideshow": {
     "slide_type": ""
    },
    "tags": []
   },
   "outputs": [],
   "source": [
    "from dotenv import load_dotenv\n",
    "import os\n",
    "\n",
    "os.environ['GROQ_API_KEY'] = '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'"
   ]
  },
  {
   "cell_type": "markdown",
   "id": "795075a4-69e1-40a3-a37f-159f3de11e92",
   "metadata": {},
   "source": [
    "# Definindo e chamando modelos que vão ser usados"
   ]
  },
  {
   "cell_type": "code",
   "execution_count": 177,
   "id": "d17440ca-791c-450e-a933-0b362af513e2",
   "metadata": {},
   "outputs": [
    {
     "name": "stdout",
     "output_type": "stream",
     "text": [
      "GOOGLE_LLM: client=<groq.resources.chat.completions.Completions object at 0x7f3b97fb75f0> async_client=<groq.resources.chat.completions.AsyncCompletions object at 0x7f3be89786b0> model_name='gemma2-9b-it' model_kwargs={} groq_api_key=SecretStr('**********')\n",
      "\n",
      "META_LLM: client=<groq.resources.chat.completions.Completions object at 0x7f3b97e002c0> async_client=<groq.resources.chat.completions.AsyncCompletions object at 0x7f3b97e00440> model_name='llama-3.3-70b-versatile' model_kwargs={} groq_api_key=SecretStr('**********')\n",
      "\n",
      "DEEP_SEEK_LLM: client=<groq.resources.chat.completions.Completions object at 0x7f3b97e025d0> async_client=<groq.resources.chat.completions.AsyncCompletions object at 0x7f3b97e037a0> model_name='deepseek-r1-distill-qwen-32b' model_kwargs={} groq_api_key=SecretStr('**********')\n",
      "\n"
     ]
    }
   ],
   "source": [
    "from langchain_groq import ChatGroq\n",
    "\n",
    "class Modelos:\n",
    "    def __init__(self):\n",
    "        self.models = {\n",
    "            'google_gemma': 'gemma2-9b-it',\n",
    "            'meta_llama': 'llama-3.3-70b-versatile',\n",
    "            'deep_seek': 'deepseek-r1-distill-qwen-32b'\n",
    "        }\n",
    "\n",
    "        self.google_llm = ChatGroq(model=self.models['google_gemma'])\n",
    "        self.meta_llm = ChatGroq(model=self.models['meta_llama'])\n",
    "        self.deep_seek_llm = ChatGroq(model=self.models['deep_seek'])\n",
    "\n",
    "    def imprimir_llms_carregadas(self):\n",
    "        print(f'GOOGLE_LLM: {self.google_llm}\\n')\n",
    "        print(f'META_LLM: {self.meta_llm}\\n')\n",
    "        print(f'DEEP_SEEK_LLM: {self.deep_seek_llm}\\n')\n",
    "\n",
    "new_obj = Modelos()\n",
    "new_obj.imprimir_llms_carregadas()"
   ]
  },
  {
   "cell_type": "markdown",
   "id": "62076d0f-4bab-4000-97a4-95746137d22d",
   "metadata": {},
   "source": [
    "# Carregar Lista de PDFS dos Prospectos"
   ]
  },
  {
   "cell_type": "code",
   "execution_count": 8,
   "id": "e732d8be-08f9-40fc-94bc-5cd122248187",
   "metadata": {},
   "outputs": [
    {
     "name": "stdout",
     "output_type": "stream",
     "text": [
      "loader: <langchain_community.document_loaders.pdf.PyPDFLoader object at 0x7f3c6234aea0>\n",
      "\n",
      "\n",
      "docs_loader: ESTE DOCUMENTO É UMA MINUTA INICIAL SUJEITA A ALTERAÇÕES E COMP LEMENTAÇÕES, TENDO SIDO ARQUIVADO NA\n",
      "\n",
      "\n",
      "{'producer': 'Acrobat Distiller 10.0.0 (Windows)', 'creator': 'PScript5.dll Version 5.2.2', 'creationdate': '2020-10-21T17:41:47-03:00', 'author': '', 'moddate': '2020-10-21T17:44:00-03:00', 'title': '', 'source': '../data/minuta/uni_co_20201021_Minuta%20do%20Prospecto%20Preliminar.pdf', 'total_pages': 667, 'page': 0, 'page_label': '1'}\n",
      "1\n"
     ]
    }
   ],
   "source": [
    "from langchain_community.document_loaders import PyPDFLoader\n",
    "import os\n",
    "\n",
    "# Lista para armazenar os documentos carregados\n",
    "diretorio_base='../data/minuta/'\n",
    "docs_list = []\n",
    "i = 1\n",
    "\n",
    "# Itera sobre os arquivos no diretório e carrega os PDFs\n",
    "for nome_arquivo in os.listdir(diretorio_base):\n",
    "    if nome_arquivo.endswith(\".pdf\"):  # Verifica se o arquivo é um PDF\n",
    "        caminho_pdf = os.path.join(diretorio_base, nome_arquivo)\n",
    "\n",
    "        loader = PyPDFLoader(caminho_pdf)\n",
    "\n",
    "        print(f'loader: {loader}\\n\\n')\n",
    "                \n",
    "        docs = await loader.aload()\n",
    "\n",
    "        print(f'docs_loader: {docs[0].page_content[:100]}\\n\\n')\n",
    "        print(docs[0].metadata)\n",
    "        \n",
    "        docs_list.append(docs)\n",
    "\n",
    "        print(i)\n",
    "        # i += 1\n",
    "    if i == 1:\n",
    "        break\n"
   ]
  },
  {
   "cell_type": "markdown",
   "id": "38a40487-1bb5-414f-9035-c3794cebac86",
   "metadata": {},
   "source": [
    "# Dividir Texto em partes menores"
   ]
  },
  {
   "cell_type": "code",
   "execution_count": 10,
   "id": "dbb8e198-e751-4464-9c1c-ab0a4b3efc00",
   "metadata": {},
   "outputs": [
    {
     "name": "stdout",
     "output_type": "stream",
     "text": [
      "2147\n"
     ]
    },
    {
     "data": {
      "text/plain": [
       "{'producer': 'Acrobat Distiller 10.0.0 (Windows)',\n",
       " 'creator': 'PScript5.dll Version 5.2.2',\n",
       " 'creationdate': '2020-10-21T17:41:47-03:00',\n",
       " 'author': '',\n",
       " 'moddate': '2020-10-21T17:44:00-03:00',\n",
       " 'title': '',\n",
       " 'source': '../data/minuta/uni_co_20201021_Minuta%20do%20Prospecto%20Preliminar.pdf',\n",
       " 'total_pages': 667,\n",
       " 'page': 0,\n",
       " 'page_label': '1',\n",
       " 'start_index': 8486}"
      ]
     },
     "execution_count": 10,
     "metadata": {},
     "output_type": "execute_result"
    }
   ],
   "source": [
    "from langchain_text_splitters import RecursiveCharacterTextSplitter\n",
    "\n",
    "# text_splitter = RecursiveCharacterTextSplitter(chunk_size=1000, chunk_overlap=200)\n",
    "text_splitter = RecursiveCharacterTextSplitter(\n",
    "    chunk_size=1024,  # chunk size (characters)\n",
    "    chunk_overlap=150,  # chunk overlap (characters)\n",
    "    add_start_index=True,  # track index in original document\n",
    ")\n",
    "all_splits = text_splitter.split_documents(docs_list[0])\n",
    "\n",
    "print(len(all_splits))  # ler tamanho total de divisões\n",
    "len(all_splits[0].page_content)  # ler tamanho total de divisões da pagina 0\n",
    "\n",
    "all_splits[10].metadata   # metadados do doc"
   ]
  },
  {
   "cell_type": "markdown",
   "id": "764043cd-3762-4169-a025-65c3b14da674",
   "metadata": {},
   "source": [
    "# Instanciando Embedding"
   ]
  },
  {
   "cell_type": "code",
   "execution_count": 12,
   "id": "8715d054-f8d7-4972-983f-a72b4679c28c",
   "metadata": {},
   "outputs": [
    {
     "name": "stderr",
     "output_type": "stream",
     "text": [
      "/home/thayson/Repositorios/llm_testing/env/lib/python3.12/site-packages/tqdm/auto.py:21: TqdmWarning: IProgress not found. Please update jupyter and ipywidgets. See https://ipywidgets.readthedocs.io/en/stable/user_install.html\n",
      "  from .autonotebook import tqdm as notebook_tqdm\n"
     ]
    },
    {
     "name": "stdout",
     "output_type": "stream",
     "text": [
      "model_name='sentence-transformers/all-mpnet-base-v2' cache_folder=None model_kwargs={} encode_kwargs={} multi_process=False show_progress=False\n"
     ]
    }
   ],
   "source": [
    "from langchain_huggingface import HuggingFaceEmbeddings\n",
    "\n",
    "embeddings = HuggingFaceEmbeddings(model_name=\"sentence-transformers/all-mpnet-base-v2\")\n",
    "\n",
    "print(embeddings)"
   ]
  },
  {
   "cell_type": "markdown",
   "id": "43002e39-e0fd-4226-8f0e-2a4cfa10691a",
   "metadata": {},
   "source": [
    "# Usando InMemoryVectorStore para armazenar os embeddings"
   ]
  },
  {
   "cell_type": "code",
   "execution_count": 21,
   "id": "0b5a2d96-2b2c-45be-9e95-203e2c4f858a",
   "metadata": {},
   "outputs": [
    {
     "name": "stderr",
     "output_type": "stream",
     "text": [
      "Processando lotes em paralelo: 100%|██████████| 537/537 [10:43<00:00,  1.20s/it]"
     ]
    },
    {
     "name": "stdout",
     "output_type": "stream",
     "text": [
      "✅ Processamento concluído com paralelismo!\n"
     ]
    },
    {
     "name": "stderr",
     "output_type": "stream",
     "text": [
      "\n"
     ]
    }
   ],
   "source": [
    "from langchain_core.vectorstores import InMemoryVectorStore\n",
    "from concurrent.futures import ThreadPoolExecutor, as_completed\n",
    "from tqdm import tqdm\n",
    "\n",
    "# Criando o vector store na memória (evita FAISS caso não queira instalar)\n",
    "vector_store = InMemoryVectorStore(embeddings)\n",
    "\n",
    "# Configuração do tamanho do lote e número de threads\n",
    "batch_size = 4  # Processa poucos documentos por vez para reduzir o uso de RAM\n",
    "num_threads = 4  # Número de lotes processados simultaneamente\n",
    "document_ids = []\n",
    "\n",
    "# Função para processar um lote e armazenar no vector store\n",
    "def process_batch(start_idx):\n",
    "    batch = all_splits[start_idx : start_idx + batch_size]\n",
    "    return vector_store.add_documents(documents=batch)\n",
    "\n",
    "# Cria um pool de threads para paralelizar a execução\n",
    "with ThreadPoolExecutor(max_workers=num_threads) as executor:\n",
    "    futures = {executor.submit(process_batch, i): i for i in range(0, len(all_splits), batch_size)}\n",
    "\n",
    "    for future in tqdm(as_completed(futures), total=len(futures), desc=\"Processando lotes em paralelo\"):\n",
    "        document_ids.append(future.result())  # Armazena os IDs processados\n",
    "\n",
    "print(\"✅ Processamento concluído com paralelismo!\")"
   ]
  },
  {
   "cell_type": "markdown",
   "id": "86cd6479-9fc0-4af3-8f44-9bbb4776902a",
   "metadata": {},
   "source": [
    "# usando a gpu"
   ]
  },
  {
   "cell_type": "code",
   "execution_count": 204,
   "id": "fe9376d6-7381-4209-8211-c741e572c0d5",
   "metadata": {},
   "outputs": [
    {
     "name": "stderr",
     "output_type": "stream",
     "text": [
      "huggingface/tokenizers: The current process just got forked, after parallelism has already been used. Disabling parallelism to avoid deadlocks...\n",
      "To disable this warning, you can either:\n",
      "\t- Avoid using `tokenizers` before the fork if possible\n",
      "\t- Explicitly set the environment variable TOKENIZERS_PARALLELISM=(true | false)\n"
     ]
    },
    {
     "name": "stdout",
     "output_type": "stream",
     "text": [
      "\u001b[33mWARNING: Ignoring invalid distribution ~orch (/home/thayson/Repositorios/llm_testing/env/lib/python3.12/site-packages)\u001b[0m\u001b[33m\n",
      "\u001b[0mLooking in indexes: https://download.pytorch.org/whl/nightly/rocm6.2/\n",
      "Requirement already satisfied: torch in /home/thayson/Repositorios/llm_testing/env/lib/python3.12/site-packages (2.6.0.dev20241122+rocm6.2)\n",
      "Collecting torchvision\n",
      "  Using cached https://download.pytorch.org/whl/nightly/rocm6.2/torchvision-0.20.0.dev20241206%2Brocm6.2-cp312-cp312-linux_x86_64.whl (2.7 MB)\n",
      "Collecting torchaudio\n",
      "  Using cached https://download.pytorch.org/whl/nightly/rocm6.2/torchaudio-2.5.0.dev20241206%2Brocm6.2-cp312-cp312-linux_x86_64.whl (1.7 MB)\n",
      "Requirement already satisfied: filelock in /home/thayson/Repositorios/llm_testing/env/lib/python3.12/site-packages (from torch) (3.17.0)\n",
      "Requirement already satisfied: typing-extensions>=4.10.0 in /home/thayson/Repositorios/llm_testing/env/lib/python3.12/site-packages (from torch) (4.12.2)\n",
      "Requirement already satisfied: networkx in /home/thayson/Repositorios/llm_testing/env/lib/python3.12/site-packages (from torch) (3.4.2)\n",
      "Requirement already satisfied: jinja2 in /home/thayson/Repositorios/llm_testing/env/lib/python3.12/site-packages (from torch) (3.1.5)\n",
      "Requirement already satisfied: fsspec in /home/thayson/Repositorios/llm_testing/env/lib/python3.12/site-packages (from torch) (2025.2.0)\n",
      "Requirement already satisfied: pytorch-triton-rocm==3.1.0+cf34004b8a in /home/thayson/Repositorios/llm_testing/env/lib/python3.12/site-packages (from torch) (3.1.0+cf34004b8a)\n",
      "Requirement already satisfied: setuptools in /home/thayson/Repositorios/llm_testing/env/lib/python3.12/site-packages (from torch) (75.8.0)\n",
      "Requirement already satisfied: sympy==1.13.1 in /home/thayson/Repositorios/llm_testing/env/lib/python3.12/site-packages (from torch) (1.13.1)\n",
      "Requirement already satisfied: mpmath<1.4,>=1.1.0 in /home/thayson/Repositorios/llm_testing/env/lib/python3.12/site-packages (from sympy==1.13.1->torch) (1.3.0)\n",
      "Requirement already satisfied: numpy in /home/thayson/Repositorios/llm_testing/env/lib/python3.12/site-packages (from torchvision) (2.2.2)\n",
      "Requirement already satisfied: pillow!=8.3.*,>=5.3.0 in /home/thayson/Repositorios/llm_testing/env/lib/python3.12/site-packages (from torchvision) (11.1.0)\n",
      "Requirement already satisfied: MarkupSafe>=2.0 in /home/thayson/Repositorios/llm_testing/env/lib/python3.12/site-packages (from jinja2->torch) (3.0.2)\n",
      "\u001b[33mWARNING: Ignoring invalid distribution ~orch (/home/thayson/Repositorios/llm_testing/env/lib/python3.12/site-packages)\u001b[0m\u001b[33m\n",
      "\u001b[0mInstalling collected packages: torchvision, torchaudio\n",
      "\u001b[33mWARNING: Ignoring invalid distribution ~orch (/home/thayson/Repositorios/llm_testing/env/lib/python3.12/site-packages)\u001b[0m\u001b[33m\n",
      "\u001b[0mSuccessfully installed torchaudio-2.5.0.dev20241206+rocm6.2 torchvision-0.20.0.dev20241206+rocm6.2\n",
      "\n",
      "\u001b[1m[\u001b[0m\u001b[34;49mnotice\u001b[0m\u001b[1;39;49m]\u001b[0m\u001b[39;49m A new release of pip is available: \u001b[0m\u001b[31;49m25.0\u001b[0m\u001b[39;49m -> \u001b[0m\u001b[32;49m25.0.1\u001b[0m\n",
      "\u001b[1m[\u001b[0m\u001b[34;49mnotice\u001b[0m\u001b[1;39;49m]\u001b[0m\u001b[39;49m To update, run: \u001b[0m\u001b[32;49mpython -m pip install --upgrade pip\u001b[0m\n",
      "Note: you may need to restart the kernel to use updated packages.\n"
     ]
    }
   ],
   "source": [
    "pip install --pre torch torchvision torchaudio --index-url https://download.pytorch.org/whl/nightly/rocm6.2/"
   ]
  },
  {
   "cell_type": "code",
   "execution_count": null,
   "id": "98fef713-a3c5-4f63-85ac-5e93817b4b4c",
   "metadata": {},
   "outputs": [],
   "source": [
    "import torch\n",
    "\n",
    "# Verifica se a GPU AMD (ROCm) está disponível\n",
    "device = torch.device(\"cuda\" if torch.cuda.is_available() else \"cpu\")\n",
    "print(f\"Usando dispositivo: {device}\")\n",
    "\n",
    "# Processa os batches na GPU com PyTorch\n",
    "def process_batch_on_gpu(batch):\n",
    "    batch_tensor = torch.tensor(batch, dtype=torch.float32).to(device)\n",
    "    output_tensor = batch_tensor * 2  # Exemplo de operação\n",
    "    return output_tensor.cpu().numpy().tolist()\n",
    "\n",
    "document_ids = [process_batch_on_gpu(all_splits[i:i+batch_size]) for i in range(0, len(all_splits), batch_size)]\n",
    "\n",
    "print(\"✅ Processamento concluído na GPU AMD via PyTorch!\")\n"
   ]
  },
  {
   "cell_type": "markdown",
   "id": "9542ff0b-bdaa-46e3-90da-3f98f9ef622c",
   "metadata": {},
   "source": [
    "# Prompt"
   ]
  },
  {
   "cell_type": "code",
   "execution_count": 103,
   "id": "572e883c-6cec-491c-acf1-5a02d23e571d",
   "metadata": {},
   "outputs": [
    {
     "name": "stderr",
     "output_type": "stream",
     "text": [
      "/home/thayson/Repositorios/llm_testing/env/lib/python3.12/site-packages/langsmith/client.py:253: LangSmithMissingAPIKeyWarning: API key must be provided when using hosted LangSmith API\n",
      "  warnings.warn(\n"
     ]
    }
   ],
   "source": [
    "from langchain import hub\n",
    "\n",
    "# Define prompt for question-answering\n",
    "prompt = hub.pull(\"rlm/rag-prompt\")"
   ]
  },
  {
   "cell_type": "code",
   "execution_count": 105,
   "id": "b9175d40-3d43-48e0-9e52-201c444f2c24",
   "metadata": {},
   "outputs": [],
   "source": [
    "from langgraph.graph import START, StateGraph\n",
    "from typing_extensions import List, TypedDict"
   ]
  },
  {
   "cell_type": "code",
   "execution_count": 179,
   "id": "c61673c5-21ca-4fb4-a556-be0b199044f4",
   "metadata": {},
   "outputs": [],
   "source": [
    "# Define state for application\n",
    "class State(TypedDict):\n",
    "    question: str\n",
    "    context: List[Document]\n",
    "    answer: str\n",
    "\n",
    "\n",
    "# Define application steps\n",
    "def retrieve(state: State):\n",
    "    retrieved_docs = vector_store.similarity_search(state[\"question\"])\n",
    "    return {\"context\": retrieved_docs}\n",
    "\n",
    "\n",
    "def generate(state: State):\n",
    "    docs_content = \"\\n\\n\".join(doc.page_content for doc in state[\"context\"])\n",
    "    messages = prompt.invoke({\"question\": state[\"question\"], \"context\": docs_content})\n",
    "    response = new_obj.deep_seek_llm.invoke(messages)\n",
    "    return {\"answer\": response.content}\n",
    "\n",
    "\n",
    "# Compile application and test\n",
    "graph_builder = StateGraph(State).add_sequence([retrieve, generate])\n",
    "graph_builder.add_edge(START, \"retrieve\")\n",
    "graph = graph_builder.compile()"
   ]
  },
  {
   "cell_type": "code",
   "execution_count": 231,
   "id": "28468d58-2572-4659-aed6-b5c5df28cf61",
   "metadata": {},
   "outputs": [
    {
     "data": {
      "image/png": "[encoded data removed]",
      "text/plain": [
       "<IPython.core.display.Image object>"
      ]
     },
     "metadata": {},
     "output_type": "display_data"
    }
   ],
   "source": [
    "from IPython.display import Image, display\n",
    "\n",
    "display(Image(graph.get_graph().draw_mermaid_png()))"
   ]
  },
  {
   "cell_type": "code",
   "execution_count": 243,
   "id": "30d94cf4-3e33-446c-9cd5-e70dfbf846c1",
   "metadata": {},
   "outputs": [
    {
     "name": "stdout",
     "output_type": "stream",
     "text": [
      "{'question': 'me de informações gerais e resumidas do documento', 'context': [Document(id='f11f2934-7728-426b-82c8-46e7dbc2968c', metadata={'producer': 'Acrobat Distiller 10.0.0 (Windows)', 'creator': 'PScript5.dll Version 5.2.2', 'creationdate': '2020-10-21T17:41:47-03:00', 'author': '', 'moddate': '2020-10-21T17:44:00-03:00', 'title': '', 'source': '../data/minuta/uni_co_20201021_Minuta%20do%20Prospecto%20Preliminar.pdf', 'total_pages': 667, 'page': 8, 'page_label': '9', 'start_index': 1773}, page_content='As informações constantes do nosso website não são parte \\nintegrante deste Prospecto, e nem se encontram incorporadas \\npor referência ou anexas a este. \\nInformações Adicionais Informações adicionais sobre nós e a Oferta poderão ser \\nobtidas em nosso Formulário de Referência, anexo a este \\nProspecto a partir da página 325 deste Prospecto, e junto: (i) à \\nnossa Diretoria de Relações com Investidores; (ii) ao \\nCoordenador Líder nos endereços e websites indicados na \\nseção “Informações Sobre a Oferta – Informações Adicionais ” \\nna página 74 deste Prospecto; (iii) à CVM, na Rua Sete de \\nSetembro, 511, 5.º andar, na cidade do Rio de Janeiro, Estado \\ndo Rio de Janeiro, ou na Rua Cincinato Braga, 340, 2.º a 4.º \\nandares, na cidade de São Paul o, Estado de São Paulo, ou, \\nainda, em seu website: www.cvm.gov.br; e (iv) à B3, na Praça \\nAntônio Prado, 48, 7° andar, CEP 01010-901, na cidade de \\nSão Paulo, Estado de São Paulo, em seu website: \\nwww.b3.com.br.'), Document(id='aef00243-163c-4f26-beb7-615d7a9728de', metadata={'producer': 'Acrobat Distiller 10.0.0 (Windows)', 'creator': 'PScript5.dll Version 5.2.2', 'creationdate': '2020-10-21T17:41:47-03:00', 'author': '', 'moddate': '2020-10-21T17:44:00-03:00', 'title': '', 'source': '../data/minuta/uni_co_20201021_Minuta%20do%20Prospecto%20Preliminar.pdf', 'total_pages': 667, 'page': 75, 'page_label': '76', 'start_index': 2472}, page_content='governança corporativa e divulgação de informações ao mercado a  serem observadas pela \\nCompanhia, mais rigorosas do que aquelas estabelecidas na Lei d as Sociedades por Ações, \\nobservado que o referido contrato entrará em vigor na data de d isponibilização do Anúncio de \\nInício. \\nAs Ações passarão a ser negociadas no Novo Mercado a partir do 1º (primeiro) dia útil \\nsubsequente à disponibilização do Anúncio de Início sob o código “[•]”. \\nAs principais regras relativas ao Regulamento do Novo Mercado e ncontram-se resumidas no \\nFormulário de Referência, anexo a este Prospecto, a partir da p ágina 325 deste Prospecto. Para \\ninformações adicionais sobre a negociação das Ações na B3, cons ulte uma instituição autorizada a \\noperar na B3. \\nRecomenda-se a leitura, além deste Prospecto, do Formulário de Referência, para \\ninformações adicionais sobre a Companhia, incluindo seu setor d e atuação, suas atividades \\ne situação econômica e financeira, e os fatores de risco que de vem ser considerados antes'), Document(id='c3de3452-37a0-4210-979a-306cbcaf574a', metadata={'producer': 'Acrobat Distiller 10.0.0 (Windows)', 'creator': 'PScript5.dll Version 5.2.2', 'creationdate': '2020-10-21T17:41:47-03:00', 'author': '', 'moddate': '2020-10-21T17:44:00-03:00', 'title': '', 'source': '../data/minuta/uni_co_20201021_Minuta%20do%20Prospecto%20Preliminar.pdf', 'total_pages': 667, 'page': 8, 'page_label': '9', 'start_index': 888}, page_content='0801 e o seu endereço eletrônico é ri@grupounico.com. \\nInstituição Escrituradora Banco Bradesco S.A. \\nAuditores Independentes KPMG Auditores Independentes, para os exercícios sociais \\nencerrados em 31 de dezembro de 2019, 2018 e 2017 e para o \\nperíodo de nove meses findo em 30 de setembro de 2020.  \\nTítulos e Valores Mobiliários \\nEmitidos \\nAs Ações serão listadas no Novo Mercado sob o código “[•]”, a \\npartir do primeiro dia útil imediatamente posterior à \\ndisponibilização do Anúncio de Início. \\nJornais nos Quais Divulga \\nInformações \\nAs informações referentes à Companhia são divulgadas no \\njornal “Data Mercantil” e no DOESP. \\nFormulário de Referência Informações detalhadas sobre a Companhia, seus negócios e \\noperações poderão ser encontradas no Formulário de \\nReferência, anexo a este Prospecto a partir da página da 325 \\ndeste Prospecto. \\nWebsite https://ri.grupounico.com \\nAs informações constantes do nosso website não são parte \\nintegrante deste Prospecto, e nem se encontram incorporadas'), Document(id='8d6a5c1a-3840-471b-a975-dc96e8e985cf', metadata={'producer': 'Acrobat Distiller 10.0.0 (Windows)', 'creator': 'PScript5.dll Version 5.2.2', 'creationdate': '2020-10-21T17:41:47-03:00', 'author': '', 'moddate': '2020-10-21T17:44:00-03:00', 'title': '', 'source': '../data/minuta/uni_co_20201021_Minuta%20do%20Prospecto%20Preliminar.pdf', 'total_pages': 667, 'page': 69, 'page_label': '70', 'start_index': 1768}, page_content='informações constantes do Prospecto Definitivo. Nesta hipótese, o Investidor Institucional deverá \\ninformar, por escrito, sua decisão de desistência ao Coordenador Líder por meio de mensagem \\neletrônica, fax ou correspondência enviada ao endereço do Coord enador Líder, conforme \\ndisposto na seção “Informações Adicionais”, na página 74 deste Prospecto. Caso o Investidor \\nInstitucional não informe por escrito o Coordenador Líder de sua desistência será presumido que \\ntal Investidor Institucional mant eve suas respectivas intenções  de investimento e, portanto, \\ndeverá efetuar o pagamento em conformidade com os termos e no prazo previstos; \\n(e) caso não haja conclusão da Oferta ou em caso de resilição d o Contrato de Colocação ou de \\ncancelamento ou revogação da Oferta, todos as intenções de inve stimento serão canceladas \\ne o Coordenador Líder comunicará ao respectivo Investidor Insti tucional o cancelamento da \\nOferta, o que poderá ocorrer, inclusive, mediante disponibilização de comunicado ao mercado.')], 'answer': \"<think>\\nOkay, so I need to help the user by providing a concise summary of the document based on the retrieved context. Let me read through the context carefully.\\n\\nFirst, the document mentions that the website information isn't part of the Prospecto, so I should note that. Then, it talks about additional information available in the Formulário de Referência starting from page 325. I should include where else one can get this info, like the investor relations department, CVM, B3, and their websites.\\n\\nThe user also provided details about corporate governance and market information, so I need to highlight the stricter rules than the Lei das Sociedades por Ações. The stock will be traded on the Novo Mercado under a specific code after the initial announcement.\\n\\nI should mention the audit firms and the website again, but clarify that the site info isn't part of the Prospecto. Lastly, I'll note the importance of reading both the Prospecto and the Formulário de Referência for detailed info.\\n\\nI need to keep each point brief and ensure the answer doesn't exceed three sentences. I'll structure it clearly, using bullet points or numbered items for clarity, but since the user wants a natural think process, I'll just outline the key points to cover.\\n</think>\\n\\nO documento informa que as informações do site não são parte integrante do Prospecto e que mais detalhes sobre a empresa e a oferta estão disponíveis no Formulário de Referência, a partir da página 325. Acompanhamento adicional pode ser feito com a Diretoria de Relações com Investidores, na CVM (www.cvm.gov.br) ou na B3 (www.b3.com.br). As ações serão negociadas no Novo Mercado a partir do primeiro dia útil após a divulgação do Anúncio de Início, com código específico.\"}\n"
     ]
    }
   ],
   "source": [
    "result = graph.invoke({\"question\": \"me de informações gerais e resumidas do documento\"})\n",
    "\n",
    "# print(f'Context: {result[\"context\"]}\\n\\n')\n",
    "# print(f'Answer: {result[\"answer\"]}')\n",
    "print(result)"
   ]
  },
  {
   "cell_type": "code",
   "execution_count": null,
   "id": "2a88cdc2-095d-4b63-802a-bdb03a1795b8",
   "metadata": {},
   "outputs": [],
   "source": []
  }
 ],
 "metadata": {
  "kernelspec": {
   "display_name": "virtual_env_personalizado",
   "language": "python",
   "name": "env"
  },
  "language_info": {
   "codemirror_mode": {
    "name": "ipython",
    "version": 3
   },
   "file_extension": ".py",
   "mimetype": "text/x-python",
   "name": "python",
   "nbconvert_exporter": "python",
   "pygments_lexer": "ipython3",
   "version": "3.12.7"
  }
 },
 "nbformat": 4,
 "nbformat_minor": 5
}
