{
 "cells": [
  {
   "cell_type": "markdown",
   "id": "6749f69c-fc25-4c31-8c93-dc2dcc5e4982",
   "metadata": {},
   "source": [
    "# Carregando chaves de api"
   ]
  },
  {
   "cell_type": "code",
   "execution_count": 29,
   "id": "9a763fdd-6568-4b74-adac-f14b78d37c1f",
   "metadata": {
    "editable": true,
    "slideshow": {
     "slide_type": ""
    },
    "tags": []
   },
   "outputs": [],
   "source": [
    "from dotenv import load_dotenv\n",
    "import os\n",
    "\n",
    "def carregar_chaves_api():\n",
    "    load_dotenv()\n",
    "\n",
    "    groq_api_key = os.getenv('GROQ_API_KEY')\n",
    "    lang_smith_tracing = os.getenv('LANGSMITH_TRACING')\n",
    "    lang_smith_api_key = os.getenv('LANGSMITH_TRACING')\n",
    "\n",
    "\n",
    "def imprimir_chaves_api():\n",
    "    print(f\"GROQ_API_KEY: {groq_api_key}\")\n",
    "    print(f'LANGSMITH_TRACING: {lang_smith_tracing}')\n",
    "    print(f'LANGSMITH_API_KEY: {lang_smith_api_key}')\n",
    "\n",
    "\n",
    "carregar_chaves_api()"
   ]
  },
  {
   "cell_type": "markdown",
   "id": "795075a4-69e1-40a3-a37f-159f3de11e92",
   "metadata": {},
   "source": [
    "# Definindo e chamando modelos que vão ser usados"
   ]
  },
  {
   "cell_type": "code",
   "execution_count": 31,
   "id": "d17440ca-791c-450e-a933-0b362af513e2",
   "metadata": {},
   "outputs": [
    {
     "name": "stdout",
     "output_type": "stream",
     "text": [
      "GOOGLE_LLM: client=<groq.resources.chat.completions.Completions object at 0x7fd1feee0560> async_client=<groq.resources.chat.completions.AsyncCompletions object at 0x7fd1fee00050> model_name='gemma2-9b-it' model_kwargs={} groq_api_key=SecretStr('**********')\n",
      "\n",
      "META_LLM: client=<groq.resources.chat.completions.Completions object at 0x7fd1fee021e0> async_client=<groq.resources.chat.completions.AsyncCompletions object at 0x7fd1fedbaf30> model_name='llama-3.3-70b-versatile' model_kwargs={} groq_api_key=SecretStr('**********')\n",
      "\n",
      "DEEP_SEEK_LLM: client=<groq.resources.chat.completions.Completions object at 0x7fd1fec59520> async_client=<groq.resources.chat.completions.AsyncCompletions object at 0x7fd1fec5a450> model_name='deepseek-r1-distill-llama-70b-specdec' model_kwargs={} groq_api_key=SecretStr('**********')\n",
      "\n"
     ]
    }
   ],
   "source": [
    "from langchain_groq import ChatGroq\n",
    "\n",
    "class Modelos:\n",
    "    def __init__(self):\n",
    "        self.models = {\n",
    "            'google_gemma': 'gemma2-9b-it',\n",
    "            'meta_llama': 'llama-3.3-70b-versatile',\n",
    "            'deep_seek': 'deepseek-r1-distill-llama-70b-specdec'\n",
    "        }\n",
    "\n",
    "        self.google_llm = ChatGroq(model=self.models['google_gemma'])\n",
    "        self.meta_llm = ChatGroq(model=self.models['meta_llama'])\n",
    "        self.deep_seek_llm = ChatGroq(model=self.models['deep_seek'])\n",
    "\n",
    "    def imprimir_llms_carregadas(self):\n",
    "        print(f'GOOGLE_LLM: {self.google_llm}\\n')\n",
    "        print(f'META_LLM: {self.meta_llm}\\n')\n",
    "        print(f'DEEP_SEEK_LLM: {self.deep_seek_llm}\\n')\n",
    "\n",
    "new_obj = Modelos()\n",
    "new_obj.imprimir_llms_carregadas()"
   ]
  },
  {
   "cell_type": "markdown",
   "id": "62076d0f-4bab-4000-97a4-95746137d22d",
   "metadata": {},
   "source": [
    "# Carregar PDFS de prospectos"
   ]
  },
  {
   "cell_type": "code",
   "execution_count": null,
   "id": "e732d8be-08f9-40fc-94bc-5cd122248187",
   "metadata": {},
   "outputs": [],
   "source": [
    "from langchain_community.document_loaders import PyPDFLoader\n",
    "import os\n",
    "\n",
    "# Caminho para o diretório onde os PDFs estão localizados\n",
    "directory_path = \"../data/minuta/\"\n",
    "\n",
    "# Lista para armazenar os documentos carregados\n",
    "all_docs = []\n",
    "\n",
    "# Itera sobre os arquivos no diretório e carrega os PDFs\n",
    "for filename in os.listdir(directory_path):\n",
    "    if filename.endswith(\".pdf\"):  # Verifica se o arquivo é um PDF\n",
    "        pdf_file_path = os.path.join(directory_path, filename)\n",
    "        \n",
    "        # Carrega o PDF\n",
    "        loader = PyPDFLoader(pdf_file_path)\n",
    "        docs = loader.load()\n",
    "        \n",
    "        # Adiciona os documentos carregados à lista\n",
    "        all_docs.extend(docs)\n",
    "\n",
    "# Exibe os documentos carregados\n",
    "print(all_docs)\n"
   ]
  },
  {
   "cell_type": "code",
   "execution_count": null,
   "id": "fac15671-2e8d-4cc5-a344-d10e046127d6",
   "metadata": {},
   "outputs": [],
   "source": []
  }
 ],
 "metadata": {
  "kernelspec": {
   "display_name": "virtual_env_personalizado",
   "language": "python",
   "name": "env"
  },
  "language_info": {
   "codemirror_mode": {
    "name": "ipython",
    "version": 3
   },
   "file_extension": ".py",
   "mimetype": "text/x-python",
   "name": "python",
   "nbconvert_exporter": "python",
   "pygments_lexer": "ipython3",
   "version": "3.12.7"
  }
 },
 "nbformat": 4,
 "nbformat_minor": 5
}
