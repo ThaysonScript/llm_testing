{
 "cells": [
  {
   "cell_type": "code",
   "execution_count": 29,
   "id": "9a763fdd-6568-4b74-adac-f14b78d37c1f",
   "metadata": {
    "editable": true,
    "slideshow": {
     "slide_type": ""
    },
    "tags": []
   },
   "outputs": [
    {
     "name": "stdout",
     "output_type": "stream",
     "text": [
      "GROQ_API_KEY: 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\n",
      "LANGSMITH_TRACING: None\n",
      "LANGSMITH_API_KEY: None\n"
     ]
    }
   ],
   "source": [
    "from dotenv import load_dotenv\n",
    "import os\n",
    "\n",
    "load_dotenv()\n",
    "\n",
    "groq_api_key = os.getenv('GROQ_API_KEY')\n",
    "\n",
    "lang_smith_tracing = os.getenv('LANGSMITH_TRACING')\n",
    "lang_smith_api_key = os.getenv('LANGSMITH_TRACING')\n",
    "\n",
    "print(f\"GROQ_API_KEY: {groq_api_key}\")\n",
    "\n",
    "print(f'LANGSMITH_TRACING: {lang_smith_tracing}')\n",
    "print(f'LANGSMITH_API_KEY: {lang_smith_api_key}')\n"
   ]
  },
  {
   "cell_type": "code",
   "execution_count": 31,
   "id": "d17440ca-791c-450e-a933-0b362af513e2",
   "metadata": {},
   "outputs": [],
   "source": [
    "models = {\n",
    "    'google_gemma': 'gemma2-9b-it',\n",
    "    'meta_llama': 'llama-3.3-70b-versatile',\n",
    "    'deep_seek': 'deepseek-r1-distill-llama-70b-specdec'\n",
    "}"
   ]
  },
  {
   "cell_type": "markdown",
   "id": "fb6b1224-f8e5-41ad-bb83-c796fe0720b6",
   "metadata": {},
   "source": [
    "# Carregar as llms"
   ]
  },
  {
   "cell_type": "code",
   "execution_count": 37,
   "id": "7c65a356-d0c5-45c3-9ea6-cd3b13feff55",
   "metadata": {},
   "outputs": [],
   "source": [
    "from langchain_groq import ChatGroq\n",
    "\n",
    "google_llm = ChatGroq(model=models['google_gemma'])\n",
    "meta_llm = ChatGroq(model=models['meta_llama'])\n",
    "deep_seek_llm = ChatGroq(model=models['deep_seek'])"
   ]
  },
  {
   "cell_type": "code",
   "execution_count": 45,
   "id": "e59266c5-a13d-473b-9931-7f3247688512",
   "metadata": {},
   "outputs": [
    {
     "name": "stdout",
     "output_type": "stream",
     "text": [
      "GOOGLE_LLM: client=<groq.resources.chat.completions.Completions object at 0x7fcdbc44e570> async_client=<groq.resources.chat.completions.AsyncCompletions object at 0x7fcdbc44f080> model_name='gemma2-9b-it' model_kwargs={} groq_api_key=SecretStr('**********')\n",
      "\n",
      "META_LLM: client=<groq.resources.chat.completions.Completions object at 0x7fcdbc5f6c30> async_client=<groq.resources.chat.completions.AsyncCompletions object at 0x7fcdbc5f4980> model_name='llama-3.3-70b-versatile' model_kwargs={} groq_api_key=SecretStr('**********')\n",
      "\n",
      "DEEP_SEEK_LLM: client=<groq.resources.chat.completions.Completions object at 0x7fcdbc4d9a90> async_client=<groq.resources.chat.completions.AsyncCompletions object at 0x7fcdbc4d8e60> model_name='deepseek-r1-distill-llama-70b-specdec' model_kwargs={} groq_api_key=SecretStr('**********')\n",
      "\n"
     ]
    }
   ],
   "source": [
    "print(f'GOOGLE_LLM: {google_llm}\\n')\n",
    "print(f'META_LLM: {meta_llm}\\n')\n",
    "print(f'DEEP_SEEK_LLM: {deep_seek_llm}\\n')"
   ]
  },
  {
   "cell_type": "code",
   "execution_count": null,
   "id": "fdc10bb4-d7c1-400b-b465-d3c1c5cfc4f0",
   "metadata": {},
   "outputs": [],
   "source": []
  }
 ],
 "metadata": {
  "kernelspec": {
   "display_name": "virtual_env_personalizado",
   "language": "python",
   "name": "env"
  },
  "language_info": {
   "codemirror_mode": {
    "name": "ipython",
    "version": 3
   },
   "file_extension": ".py",
   "mimetype": "text/x-python",
   "name": "python",
   "nbconvert_exporter": "python",
   "pygments_lexer": "ipython3",
   "version": "3.12.7"
  }
 },
 "nbformat": 4,
 "nbformat_minor": 5
}
