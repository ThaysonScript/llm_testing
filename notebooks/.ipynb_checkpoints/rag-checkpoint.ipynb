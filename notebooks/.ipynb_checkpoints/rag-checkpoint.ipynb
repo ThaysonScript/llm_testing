{
 "cells": [
  {
   "cell_type": "markdown",
   "id": "6749f69c-fc25-4c31-8c93-dc2dcc5e4982",
   "metadata": {},
   "source": [
    "# Carregando chaves de api"
   ]
  },
  {
   "cell_type": "code",
   "execution_count": 3,
   "id": "9a763fdd-6568-4b74-adac-f14b78d37c1f",
   "metadata": {
    "editable": true,
    "slideshow": {
     "slide_type": ""
    },
    "tags": []
   },
   "outputs": [],
   "source": [
    "from dotenv import load_dotenv\n",
    "import os\n",
    "\n",
    "def carregar_chaves_api():\n",
    "    load_dotenv()\n",
    "\n",
    "    groq_api_key = os.getenv('GROQ_API_KEY')\n",
    "    lang_smith_tracing = os.getenv('LANGSMITH_TRACING')\n",
    "    lang_smith_api_key = os.getenv('LANGSMITH_TRACING')\n",
    "\n",
    "\n",
    "def imprimir_chaves_api():\n",
    "    print(f\"GROQ_API_KEY: {groq_api_key}\")\n",
    "    print(f'LANGSMITH_TRACING: {lang_smith_tracing}')\n",
    "    print(f'LANGSMITH_API_KEY: {lang_smith_api_key}')\n",
    "\n",
    "\n",
    "carregar_chaves_api()"
   ]
  },
  {
   "cell_type": "markdown",
   "id": "795075a4-69e1-40a3-a37f-159f3de11e92",
   "metadata": {},
   "source": [
    "# Definindo e chamando modelos que vão ser usados"
   ]
  },
  {
   "cell_type": "code",
   "execution_count": 5,
   "id": "d17440ca-791c-450e-a933-0b362af513e2",
   "metadata": {},
   "outputs": [
    {
     "name": "stdout",
     "output_type": "stream",
     "text": [
      "GOOGLE_LLM: client=<groq.resources.chat.completions.Completions object at 0x7fda1903c470> async_client=<groq.resources.chat.completions.AsyncCompletions object at 0x7fda1903d520> model_name='gemma2-9b-it' model_kwargs={} groq_api_key=SecretStr('**********')\n",
      "\n",
      "META_LLM: client=<groq.resources.chat.completions.Completions object at 0x7fda1903e6f0> async_client=<groq.resources.chat.completions.AsyncCompletions object at 0x7fda1903f8c0> model_name='llama-3.3-70b-versatile' model_kwargs={} groq_api_key=SecretStr('**********')\n",
      "\n",
      "DEEP_SEEK_LLM: client=<groq.resources.chat.completions.Completions object at 0x7fda19058b00> async_client=<groq.resources.chat.completions.AsyncCompletions object at 0x7fda19059ca0> model_name='deepseek-r1-distill-llama-70b-specdec' model_kwargs={} groq_api_key=SecretStr('**********')\n",
      "\n"
     ]
    }
   ],
   "source": [
    "from langchain_groq import ChatGroq\n",
    "\n",
    "class Modelos:\n",
    "    def __init__(self):\n",
    "        self.models = {\n",
    "            'google_gemma': 'gemma2-9b-it',\n",
    "            'meta_llama': 'llama-3.3-70b-versatile',\n",
    "            'deep_seek': 'deepseek-r1-distill-llama-70b-specdec'\n",
    "        }\n",
    "\n",
    "        self.google_llm = ChatGroq(model=self.models['google_gemma'])\n",
    "        self.meta_llm = ChatGroq(model=self.models['meta_llama'])\n",
    "        self.deep_seek_llm = ChatGroq(model=self.models['deep_seek'])\n",
    "\n",
    "    def imprimir_llms_carregadas(self):\n",
    "        print(f'GOOGLE_LLM: {self.google_llm}\\n')\n",
    "        print(f'META_LLM: {self.meta_llm}\\n')\n",
    "        print(f'DEEP_SEEK_LLM: {self.deep_seek_llm}\\n')\n",
    "\n",
    "new_obj = Modelos()\n",
    "new_obj.imprimir_llms_carregadas()"
   ]
  },
  {
   "cell_type": "markdown",
   "id": "62076d0f-4bab-4000-97a4-95746137d22d",
   "metadata": {},
   "source": [
    "# Carregar Lista de PDFS dos Prospectos"
   ]
  },
  {
   "cell_type": "code",
   "execution_count": 7,
   "id": "e732d8be-08f9-40fc-94bc-5cd122248187",
   "metadata": {},
   "outputs": [
    {
     "name": "stdout",
     "output_type": "stream",
     "text": [
      "loader: <langchain_community.document_loaders.pdf.PyPDFLoader object at 0x7fda1907b3e0>\n",
      "\n",
      "\n",
      "docs_loader: ESTE DOCUMENTO É UMA MINUTA INICIAL SUJEITA A ALTERAÇÕES E COMP LEMENTAÇÕES, TENDO SIDO ARQUIVADO NA\n",
      "\n",
      "\n",
      "{'producer': 'Acrobat Distiller 10.0.0 (Windows)', 'creator': 'PScript5.dll Version 5.2.2', 'creationdate': '2020-10-21T17:41:47-03:00', 'author': '', 'moddate': '2020-10-21T17:44:00-03:00', 'title': '', 'source': '../data/minuta/uni_co_20201021_Minuta%20do%20Prospecto%20Preliminar.pdf', 'total_pages': 667, 'page': 0, 'page_label': '1'}\n",
      "1\n"
     ]
    }
   ],
   "source": [
    "from langchain_community.document_loaders import PyPDFLoader\n",
    "import os\n",
    "\n",
    "# Lista para armazenar os documentos carregados\n",
    "diretorio_base='../data/minuta/'\n",
    "docs_list = []\n",
    "i = 1\n",
    "\n",
    "# Itera sobre os arquivos no diretório e carrega os PDFs\n",
    "for nome_arquivo in os.listdir(diretorio_base):\n",
    "    if nome_arquivo.endswith(\".pdf\"):  # Verifica se o arquivo é um PDF\n",
    "        caminho_pdf = os.path.join(diretorio_base, nome_arquivo)\n",
    "\n",
    "        loader = PyPDFLoader(caminho_pdf)\n",
    "\n",
    "        print(f'loader: {loader}\\n\\n')\n",
    "                \n",
    "        docs = await loader.aload()\n",
    "\n",
    "        print(f'docs_loader: {docs[0].page_content[:100]}\\n\\n')\n",
    "        print(docs[0].metadata)\n",
    "        \n",
    "        docs_list.append(docs)\n",
    "\n",
    "        print(i)\n",
    "        # i += 1\n",
    "    if i == 1:\n",
    "        break\n"
   ]
  },
  {
   "cell_type": "markdown",
   "id": "38a40487-1bb5-414f-9035-c3794cebac86",
   "metadata": {},
   "source": [
    "# Dividir Texto em partes menores"
   ]
  },
  {
   "cell_type": "code",
   "execution_count": 82,
   "id": "dbb8e198-e751-4464-9c1c-ab0a4b3efc00",
   "metadata": {},
   "outputs": [
    {
     "name": "stdout",
     "output_type": "stream",
     "text": [
      "667\n"
     ]
    },
    {
     "data": {
      "text/plain": [
       "{'producer': 'Acrobat Distiller 10.0.0 (Windows)',\n",
       " 'creator': 'PScript5.dll Version 5.2.2',\n",
       " 'creationdate': '2020-10-21T17:41:47-03:00',\n",
       " 'author': '',\n",
       " 'moddate': '2020-10-21T17:44:00-03:00',\n",
       " 'title': '',\n",
       " 'source': '../data/minuta/uni_co_20201021_Minuta%20do%20Prospecto%20Preliminar.pdf',\n",
       " 'total_pages': 667,\n",
       " 'page': 10,\n",
       " 'page_label': '11',\n",
       " 'start_index': 0}"
      ]
     },
     "execution_count": 82,
     "metadata": {},
     "output_type": "execute_result"
    }
   ],
   "source": [
    "from langchain_text_splitters import RecursiveCharacterTextSplitter\n",
    "\n",
    "# text_splitter = RecursiveCharacterTextSplitter(chunk_size=1000, chunk_overlap=200)\n",
    "text_splitter = RecursiveCharacterTextSplitter(\n",
    "    chunk_size=100000,  # chunk size (characters)\n",
    "    chunk_overlap=20000,  # chunk overlap (characters)\n",
    "    add_start_index=True,  # track index in original document\n",
    ")\n",
    "all_splits = text_splitter.split_documents(docs_list[0])\n",
    "\n",
    "print(len(all_splits))  # ler tamanho total de divisões\n",
    "len(all_splits[0].page_content)  # ler tamanho total de divisões da pagina 0\n",
    "\n",
    "all_splits[10].metadata   # metadados do doc"
   ]
  },
  {
   "cell_type": "markdown",
   "id": "764043cd-3762-4169-a025-65c3b14da674",
   "metadata": {},
   "source": [
    "# Instanciando Embedding"
   ]
  },
  {
   "cell_type": "code",
   "execution_count": 38,
   "id": "8715d054-f8d7-4972-983f-a72b4679c28c",
   "metadata": {},
   "outputs": [
    {
     "name": "stdout",
     "output_type": "stream",
     "text": [
      "model_name='sentence-transformers/all-mpnet-base-v2' cache_folder=None model_kwargs={} encode_kwargs={} multi_process=False show_progress=False\n"
     ]
    }
   ],
   "source": [
    "from langchain_huggingface import HuggingFaceEmbeddings\n",
    "\n",
    "embeddings = HuggingFaceEmbeddings(model_name=\"sentence-transformers/all-mpnet-base-v2\")\n",
    "\n",
    "print(embeddings)"
   ]
  },
  {
   "cell_type": "markdown",
   "id": "61b37437-a945-44ae-9f1f-892a5f5efcc9",
   "metadata": {},
   "source": [
    "# Usando FAISS para armazenar as incorporacoes"
   ]
  },
  {
   "cell_type": "code",
   "execution_count": null,
   "id": "56ecafca-64e6-4803-ab63-34b3da5d87ff",
   "metadata": {},
   "outputs": [],
   "source": [
    "from langchain_community.vectorstores import FAISS\n",
    "\n",
    "vector_store = FAISS.from_documents(all_splits, embeddings)\n",
    "\n",
    "print(vector_store[:1])"
   ]
  },
  {
   "cell_type": "markdown",
   "id": "43002e39-e0fd-4226-8f0e-2a4cfa10691a",
   "metadata": {},
   "source": [
    "# Usando InMemoryVectorStore para armazenar os embeddings"
   ]
  },
  {
   "cell_type": "code",
   "execution_count": 168,
   "id": "6a760e89-b839-4643-946f-167dcd182ea2",
   "metadata": {},
   "outputs": [
    {
     "name": "stdout",
     "output_type": "stream",
     "text": [
      "['b1727ccc-37a0-454a-b37b-74082e20cc20', '79b23d89-2ad0-4b0c-a3e3-a0a60fba4588', '26f6cd78-49ca-4928-9585-cd264a49b880', 'f414b9c0-76bf-47ee-9f32-b178d9d5229c', 'a78e5938-9ba4-4cb5-bfd8-494ba756296d', '04967d9e-d592-4569-a2db-47c48f4b0ca3', '08aaa934-e38a-4f05-a0db-db2e193c0cf5', 'fbbbb4a5-5fe3-4f1f-9c11-40a171afb04e', '2c0cd26a-d505-4b87-a4f3-f4ff1f55142d', '3ff3b87d-0143-4e1b-9ce3-fe3717e41035', '409d34bf-e9e7-47cd-91ad-2e7584350bf5', '3021a789-0a3d-477a-94e4-3dcbffba741e', '8ad07003-dafa-4695-a93c-6c375dd3b946', 'a1def3c1-57c9-44ec-9330-c21c35d17af0', '0eccfd57-cbdf-4347-a4fe-e695a934b074', '9b8ee828-1ed0-4465-add3-623831c2d4c7', 'e67288d0-8e1a-4ba8-a0f2-6ad58bb1ec8a', '68be18ba-ee42-4869-adde-1266dd36df23', '36e9a31c-ed65-4cf7-bb00-d031fa84177f', '93669d78-9c88-4ab7-8fd3-aa92f75347e2', '4a7aafbb-70d1-4738-a208-7ee59745cc05', '8d8f3879-7df1-49c2-99bc-4542d868c484', '79fa3052-5eb6-43ac-b0df-7c62e0d863b7', 'f0135224-65a8-47ca-9ab3-f86b7606bd15', 'b9b2d157-b55b-47e6-b228-0502684fa163', '5b36a04f-833b-4a48-83df-9f6e79b63742', '818cddd2-c71a-4675-a7e8-a7cde2ab13a3', 'cfe107c4-b803-4a87-812a-face15108da3', '70134440-18a6-4ac0-9c3e-0e46a2613dcd', '15271ee9-83b2-4472-abda-7dcc86d1b58b', '233c889e-fd79-424c-a6d2-47fff252e841', '799046d1-f3fa-4edf-a0f4-e9922e60f32b', '5a367615-619c-45f3-8b1b-577272398e9c', 'e79ca994-7cc9-4338-bc25-250c29566f02', '388b29f8-a8e8-4dc0-bcb3-fb02a7eee8fa', 'c00520c6-a502-4013-9593-65f02b8d63bb', 'cb876b87-62f5-4597-844a-66a56159f4b1', '1125b750-7ff3-474a-8488-12fb13a2bb29', 'cc3749a3-8052-4956-8191-54520af36392', '17ca7cc2-7eb2-4952-b291-c332b1a61f5e', '91596a8f-5826-42a8-8f53-0160a8627073', '6380a56c-90a5-4160-acfb-c527c3657168', 'd7345927-5bbb-4ff9-b9a4-8452a0c4a47e', '156a362c-3a89-436a-af27-4fd6dd37ada3', '91f8d7b2-9426-4a56-bd86-c3daf1adc88d', '1b1fc1b7-ad79-47c6-9488-81aeb6f3157e', 'a0dbf3b1-b41a-4cc3-9a07-1d7f27a84313', '395133eb-944b-4b56-954c-137569a6499a', '82b6f4f6-0997-44df-a694-baf079802136', 'be81b946-836a-4adb-9863-eaab4f427c1c', '0413cbd9-f383-425b-a805-e8ff383a1264', 'bdf266b0-efc2-4636-bbe9-e40dd84f981e', '996de30d-7dba-4e85-ae4c-fcb2672a3eae', '7738962c-e218-4102-8dad-6429cc9430d4', '3ed30ae8-54a6-47a5-b337-a12cac195084', '0b150b5b-94a5-4287-993a-109ce7e2de5b', '789374ff-67ee-41dc-b7f0-1df95d9fa116', 'c2a165d3-363b-4313-a3c8-aa6c13830d1d', '4ee6c897-7049-44a5-9367-5d88466b0041', '7d23c8a8-68a6-4058-a038-a84354764235', 'bd1deda1-648b-4012-9720-82a629960910', '48f4bcb0-7d7f-4c1b-a12a-f8d3348daf0f', 'dda87731-b298-4af0-8074-9a9ccc402fa9', '08a31b2d-53e6-478e-995f-0416a4e9d4cc', 'f34ee735-8511-4dd8-bb1b-d1a073745b72', 'e49ffb14-078a-447d-8578-7cdcfad8742f', 'd4910eb2-8eb1-4462-bbe9-9cdd73815811', '2b0fd798-a23e-4ea1-ac41-63b81e6a331d', '0c8f719b-d396-421e-a326-9e09e60bf2c9', '50f4d059-1543-4a15-920c-fcfd4d27c22b', '8cf30488-1ed5-4089-bb72-90d5de3427d1', '9a99cc0e-4493-48b5-84f6-58bc189ec196', '9ee70460-786a-454b-b634-03677f7039b0', '60f6f7cc-2f54-4086-8be2-26c8b60a2c28', '48838a55-567b-4421-a022-52b5c95b8c41', '4c77d029-8536-4a3b-b9c1-26c5d9f40b07', '57e9b572-53dc-4d14-bcf7-31d9ec9fbf0c', 'c62815b0-0eae-4e59-8e5f-c94d1702df68', 'eaab270d-e931-42d4-be34-fba0426090ba', '6272990c-5284-4f59-98c3-245f52ea0960', 'd8e1b180-a366-4f91-91df-61c373b3d3b1', '1b793d48-9c1d-459d-b67c-a36142f34ff1', 'e9d0d7e5-c0c9-4d3c-8604-2324f8966418', '3de02d04-8209-4a43-9d50-355e4682b3c5', '09eecea5-8cfb-4364-acd1-fee6676d10db', '60f148b9-b4c1-4b19-9ba3-0f8abc0cdfb9', '836149ab-410a-46cc-a619-a43a32c69372', 'b11396cb-1a65-4cf3-bc30-8111101dc5ca', 'bc87f5d8-e2fc-4137-b303-ae1105cd885d', '427aad2f-e2bb-4593-8354-7872232644bc', 'dd629f84-2292-4c28-83ce-fb2716af70e6', 'aab5194c-04b1-4614-8983-8767845ffb40', '93f5e4e3-fb1a-48aa-bf84-ce1252823c65', '121c5f56-b49d-4057-a41b-d3439f7cbc34', 'cc95b99b-82c4-4d42-bbb7-acaecc912cc1', '55025968-18ea-4bbf-a1fb-a107c0fc7da7', '4702be5c-e9cf-4b91-9664-32f66d4927b7', '9333b144-9bda-44a3-bb56-c7c546d5571f', 'e4ea0dc1-e727-401f-abb7-d3b29414716e', '0c952fbd-adc2-431c-8b07-531fcb003278']\n"
     ]
    }
   ],
   "source": [
    "from langchain_core.vectorstores import InMemoryVectorStore\n",
    "\n",
    "vector_store = InMemoryVectorStore(embeddings)\n",
    "\n",
    "# print(all_splits[0])\n",
    "document_ids = vector_store.add_documents(documents=all_splits[:100])\n",
    "\n",
    "print(document_ids)"
   ]
  },
  {
   "cell_type": "code",
   "execution_count": null,
   "id": "97617223-82ca-4716-93fb-a4a12da51683",
   "metadata": {},
   "outputs": [],
   "source": []
  },
  {
   "cell_type": "code",
   "execution_count": 170,
   "id": "572e883c-6cec-491c-acf1-5a02d23e571d",
   "metadata": {},
   "outputs": [
    {
     "name": "stderr",
     "output_type": "stream",
     "text": [
      "/home/thayson/Repositorios/llm_testing/env/lib/python3.12/site-packages/langsmith/client.py:253: LangSmithMissingAPIKeyWarning: API key must be provided when using hosted LangSmith API\n",
      "  warnings.warn(\n"
     ]
    }
   ],
   "source": [
    "from langchain import hub\n",
    "\n",
    "# Define prompt for question-answering\n",
    "prompt = hub.pull(\"rlm/rag-prompt\")"
   ]
  },
  {
   "cell_type": "code",
   "execution_count": null,
   "id": "b9175d40-3d43-48e0-9e52-201c444f2c24",
   "metadata": {},
   "outputs": [],
   "source": []
  },
  {
   "cell_type": "code",
   "execution_count": 172,
   "id": "c61673c5-21ca-4fb4-a556-be0b199044f4",
   "metadata": {},
   "outputs": [],
   "source": [
    "from langgraph.graph import START, StateGraph\n",
    "from typing_extensions import List, TypedDict\n",
    "from langchain_core.documents import Document\n",
    "\n",
    "# Define state for application\n",
    "class State(TypedDict):\n",
    "    question: str\n",
    "    context: List[Document]\n",
    "    answer: str\n",
    "\n",
    "\n",
    "# Define application steps\n",
    "def retrieve(state: State):\n",
    "    retrieved_docs = vector_store.similarity_search(state[\"question\"])\n",
    "    return {\"context\": retrieved_docs}\n",
    "\n",
    "\n",
    "def generate(state: State):\n",
    "    docs_content = \"\\n\\n\".join(doc.page_content for doc in state[\"context\"])\n",
    "    messages = prompt.invoke({\"question\": state[\"question\"], \"context\": docs_content})\n",
    "    response = new_obj.google_llm.invoke(messages)\n",
    "    return {\"answer\": response.content}\n",
    "\n",
    "\n",
    "# Compile application and test\n",
    "graph_builder = StateGraph(State).add_sequence([retrieve, generate])\n",
    "graph_builder.add_edge(START, \"retrieve\")\n",
    "graph = graph_builder.compile()"
   ]
  },
  {
   "cell_type": "code",
   "execution_count": 174,
   "id": "30d94cf4-3e33-446c-9cd5-e70dfbf846c1",
   "metadata": {},
   "outputs": [
    {
     "name": "stdout",
     "output_type": "stream",
     "text": [
      "This document is a prospectus for a company's initial public offering (IPO).  \n",
      "It provides detailed information about the company, its financials, and the terms of the offering.  \n",
      "Prospectuses are legal documents that must be provided to potential investors before they can buy shares in a company. \n",
      "\n",
      "\n",
      "\n"
     ]
    }
   ],
   "source": [
    "response = graph.invoke({\"question\": \"que tipo de documento é este?\"})\n",
    "print(response[\"answer\"])"
   ]
  },
  {
   "cell_type": "code",
   "execution_count": 176,
   "id": "ed6d64db-da65-442e-b3f8-ead6ea38c5f0",
   "metadata": {},
   "outputs": [
    {
     "name": "stdout",
     "output_type": "stream",
     "text": [
      "The provided context doesn't state which company the information pertains to.  \n",
      "\n"
     ]
    }
   ],
   "source": [
    "response = graph.invoke({\"question\": \"me diga de que empresa pertence\"})\n",
    "print(response[\"answer\"])"
   ]
  },
  {
   "cell_type": "code",
   "execution_count": 178,
   "id": "54365a3f-c124-4453-9553-0ec7fe28ca35",
   "metadata": {},
   "outputs": [
    {
     "name": "stdout",
     "output_type": "stream",
     "text": [
      "A Uni.co S.A. é uma empresa que possui uma plataforma para operar franquias, com foco em preservar o DNA de cada marca.  \n",
      "\n",
      "A plataforma oferece serviços como tecnologia para operação de franquias, rede global de sourcing, plataforma omnichannel e suporte de gestão. \n",
      "\n",
      "\n",
      "\n"
     ]
    }
   ],
   "source": [
    "response = graph.invoke({\"question\": \"identifique alguma informação sobre a empresa ou algo semelhante\"})\n",
    "print(response[\"answer\"])"
   ]
  },
  {
   "cell_type": "code",
   "execution_count": null,
   "id": "995d8a36-1aa3-43bc-9100-5d0a67178f75",
   "metadata": {},
   "outputs": [],
   "source": []
  }
 ],
 "metadata": {
  "kernelspec": {
   "display_name": "virtual_env_personalizado",
   "language": "python",
   "name": "env"
  },
  "language_info": {
   "codemirror_mode": {
    "name": "ipython",
    "version": 3
   },
   "file_extension": ".py",
   "mimetype": "text/x-python",
   "name": "python",
   "nbconvert_exporter": "python",
   "pygments_lexer": "ipython3",
   "version": "3.12.7"
  }
 },
 "nbformat": 4,
 "nbformat_minor": 5
}
